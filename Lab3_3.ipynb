{
  "nbformat": 4,
  "nbformat_minor": 0,
  "metadata": {
    "colab": {
      "provenance": [],
      "authorship_tag": "ABX9TyO99OhLvzFm0oAt1LW+GLtD",
      "include_colab_link": true
    },
    "kernelspec": {
      "name": "python3",
      "display_name": "Python 3"
    },
    "language_info": {
      "name": "python"
    }
  },
  "cells": [
    {
      "cell_type": "markdown",
      "metadata": {
        "id": "view-in-github",
        "colab_type": "text"
      },
      "source": [
        "<a href=\"https://colab.research.google.com/github/MdAnas-15/AIAC/blob/main/Lab3_3.ipynb\" target=\"_parent\"><img src=\"https://colab.research.google.com/assets/colab-badge.svg\" alt=\"Open In Colab\"/></a>"
      ]
    },
    {
      "cell_type": "markdown",
      "source": [
        "**Task1**: Try 3 different prompts to generate a factorial function.\n",
        "prompt1: Write a code to generate a factorial of a given number using functions.\n",
        "prompt2: Define a function \"Fact\" and write a code to generate a factorial of a number.\n",
        "prompt3: write a code to generate a factorial of a number"
      ],
      "metadata": {
        "id": "Ano2FQTOQvSS"
      }
    },
    {
      "cell_type": "code",
      "source": [
        "def factorial(n):\n",
        "  \"\"\"Calculates the factorial of a non-negative integer.\"\"\"\n",
        "  if n == 0:\n",
        "    return 1\n",
        "  else:\n",
        "    return n * factorial(n-1)\n",
        "\n",
        "# Example usage\n",
        "num = 5\n",
        "print(f\"The factorial of {num} is {factorial(num)}\")"
      ],
      "metadata": {
        "id": "5WFc-reySk3O"
      },
      "execution_count": null,
      "outputs": []
    },
    {
      "cell_type": "markdown",
      "source": [
        "Explanation: This code snippet is the core logic of a recursive factorial function.\n",
        "\n",
        "if n == 0:: This is the base case of the recursion. The factorial of 0 is defined as 1. When the input n reaches 0, the function returns 1, stopping the recursive calls.\n",
        "else:: If n is not 0, the function enters the recursive step.\n",
        "return n * factorial(n-1): This line is the recursive call. It calculates the factorial by multiplying the current number n by the factorial of the number one less than n (n-1). The function calls itself with a smaller argument until the base case (n == 0) is reached.\n",
        "This recursive process unwinds, multiplying the results at each step until the final factorial value is calculated."
      ],
      "metadata": {
        "id": "XBw_ogqcTUYG"
      }
    },
    {
      "cell_type": "code",
      "source": [
        "def Fact(n):\n",
        "  \"\"\"Calculates the factorial of a non-negative integer using the function name Fact.\"\"\"\n",
        "  if n == 0:\n",
        "    return 1\n",
        "  else:\n",
        "    return n * Fact(n-1)\n",
        "\n",
        "# Example usage\n",
        "num = 5\n",
        "print(f\"The factorial of {num} is {Fact(num)}\")"
      ],
      "metadata": {
        "id": "A_RFdcOFS9ss"
      },
      "execution_count": null,
      "outputs": []
    },
    {
      "cell_type": "markdown",
      "source": [
        "Explanation: This code snippet is the core logic of a recursive factorial function.\n",
        "\n",
        "if n == 0:: This is the base case of the recursion. The factorial of 0 is defined as 1. When the input n reaches 0, the function returns 1, stopping the recursive calls. else:: If n is not 0, the function enters the recursive step. return n * factorial(n-1): This line is the recursive call. It calculates the factorial by multiplying the current number n by the factorial of the number one less than n (n-1). The function calls itself with a smaller argument until the base case (n == 0) is reached. This recursive process unwinds, multiplying the results at each step until the final factorial value is calculated."
      ],
      "metadata": {
        "id": "nfW6nkXATz0A"
      }
    },
    {
      "cell_type": "code",
      "source": [
        "def factorial_calculator(number):\n",
        "  \"\"\"Calculates the factorial of a non-negative integer.\"\"\"\n",
        "  if number < 0:\n",
        "    return \"Factorial is not defined for negative numbers\"\n",
        "  elif number == 0:\n",
        "    return 1\n",
        "  else:\n",
        "    result = 1\n",
        "    for i in range(1, number + 1):\n",
        "      result *= i\n",
        "    return result\n",
        "\n",
        "# Example usage\n",
        "num_to_calculate = 6\n",
        "print(f\"The factorial of {num_to_calculate} is {factorial_calculator(num_to_calculate)}\")"
      ],
      "metadata": {
        "id": "HocfHFecTHFm"
      },
      "execution_count": null,
      "outputs": []
    },
    {
      "cell_type": "markdown",
      "source": [
        "Explanation: This code snippet is the core logic of a recursive factorial function.\n",
        "\n",
        "if n == 0:: This is the base case of the recursion. The factorial of 0 is defined as 1. When the input n reaches 0, the function returns 1, stopping the recursive calls. else:: If n is not 0, the function enters the recursive step. return n * factorial(n-1): This line is the recursive call. It calculates the factorial by multiplying the current number n by the factorial of the number one less than n (n-1). The function calls itself with a smaller argument until the base case (n == 0) is reached. This recursive process unwinds, multiplying the results at each step until the final factorial value is calculated."
      ],
      "metadata": {
        "id": "lVuy1EMeUG9M"
      }
    },
    {
      "cell_type": "markdown",
      "source": [
        "**Task2**: Provide a clear example input-output prompt to generate a sorting function.\n",
        "prompt: using input-output prompts, generate a code for a sorting function with a clear example."
      ],
      "metadata": {
        "id": "QlymKOxiUJDt"
      }
    },
    {
      "cell_type": "code",
      "source": [
        "# Input:\n",
        "# sort_list([3, 1, 4, 1, 5, 9, 2, 6])\n",
        "# Output:\n",
        "# [1, 1, 2, 3, 4, 5, 6, 9]\n",
        "\n",
        "def sort_list(input_list):\n",
        "  \"\"\"Sorts a list of numbers in ascending order.\"\"\"\n",
        "  return sorted(input_list)\n",
        "\n",
        "# Example usage:\n",
        "my_list = [3, 1, 4, 1, 5, 9, 2, 6]\n",
        "sorted_list = sort_list(my_list)\n",
        "print(f\"Original list: {my_list}\")\n",
        "print(f\"Sorted list: {sorted_list}\")"
      ],
      "metadata": {
        "id": "97bZC89bUtQR"
      },
      "execution_count": null,
      "outputs": []
    },
    {
      "cell_type": "markdown",
      "source": [
        "Explanation: This code snippet defines a Python function called sort_list that takes one argument, input_list.\n",
        "\n",
        "def sort_list(input_list):: This line defines the function named sort_list and indicates that it accepts one parameter, input_list.\n",
        "\"\"\"Sorts a list of numbers in ascending order.\"\"\": This is a docstring, which explains what the function does.\n",
        "return sorted(input_list): This line is the core of the function. It uses the built-in Python function sorted() to return a new list containing all items from input_list in ascending order. The original input_list is not modified."
      ],
      "metadata": {
        "id": "UyZKzp4uVVCx"
      }
    },
    {
      "cell_type": "markdown",
      "source": [
        "**Task3**: Start with the vague prompt “Generate python code to calculate power bill” and improve it step-by-step\n",
        "prompt: write a python code to calculate total power bill, ask the user to add total power consumed and improve the code step-by-step. Give a clear example"
      ],
      "metadata": {
        "id": "B9sI8jDAV4uC"
      }
    },
    {
      "cell_type": "code",
      "source": [],
      "metadata": {
        "id": "JNUiS8EVYFQg"
      },
      "execution_count": null,
      "outputs": []
    },
    {
      "cell_type": "code",
      "metadata": {
        "id": "djc2OytXXJKa"
      },
      "source": [
        "# Code to calculate power bill with tiered pricing\n",
        "\n",
        "try:\n",
        "  consumption = float(input(\"Please enter the total power consumed in units: \"))\n",
        "\n",
        "  # Define tiered rates\n",
        "  rate1 = 0.15  # Rate for the first 100 units\n",
        "  rate2 = 0.20  # Rate for the next 200 units\n",
        "  rate3 = 0.25  # Rate for consumption above 300 units\n",
        "\n",
        "  total_bill = 0\n",
        "\n",
        "  if consumption <= 100:\n",
        "    total_bill = consumption * rate1\n",
        "  elif consumption <= 300:\n",
        "    total_bill = (100 * rate1) + ((consumption - 100) * rate2)\n",
        "  else:\n",
        "    total_bill = (100 * rate1) + (200 * rate2) + ((consumption - 300) * rate3)\n",
        "\n",
        "  print(f\"Total power bill: ${total_bill:.2f}\")\n",
        "\n",
        "except ValueError:\n",
        "  print(\"Invalid input. Please enter a numerical value for power consumed.\")"
      ],
      "execution_count": null,
      "outputs": []
    },
    {
      "cell_type": "markdown",
      "source": [
        "Explanation: This code calculates a power bill based on the total power consumed, using a tiered pricing structure.\n",
        "\n",
        "Here's a breakdown:\n",
        "\n",
        "try...except ValueError:: This block is used for error handling. It attempts to execute the code within the try block. If a ValueError occurs (which happens if the user enters something that cannot be converted to a float), the code in the except block is executed, printing an error message.\n",
        "consumption = float(input(\"Please enter the total power consumed in units: \")): This line prompts the user to enter the total power consumed in units and converts the input to a floating-point number.\n",
        "rate1 = 0.15, rate2 = 0.20, rate3 = 0.25: These lines define the different rates per unit for each tier of consumption.\n",
        "total_bill = 0: Initializes the total_bill variable to zero.\n",
        "if consumption <= 100:: This checks if the consumption is within the first tier (up to 100 units). If true, the bill is calculated using rate1.\n",
        "elif consumption <= 300:: If the consumption is not in the first tier, this checks if it's within the second tier (between 101 and 300 units). If true, the bill is calculated by adding the cost of the first 100 units at rate1 and the cost of the remaining units at rate2.\n",
        "else:: If the consumption is above 300 units, this block is executed. The bill is calculated by adding the cost of the first 100 units at rate1, the next 200 units at rate2, and the remaining units above 300 at rate3.\n",
        "print(f\"Total power bill: ${total_bill:.2f}\"): This line prints the calculated total power bill, formatted to two decimal places.\n",
        "This code effectively implements a tiered pricing system for calculating the power bill."
      ],
      "metadata": {
        "id": "TWKFEdjFYYJ0"
      }
    },
    {
      "cell_type": "markdown",
      "source": [
        "Task4: Write structured comments to help AI generate two linked functions (e.g., login_user()\n",
        "and register_user()).\n",
        "prompt: Write structured comments to generate two linked functions (e.g., login_user()\n",
        "and register_user())"
      ],
      "metadata": {
        "id": "AHQALwURYozX"
      }
    },
    {
      "cell_type": "code",
      "source": [
        "# Function: register_user\n",
        "# Description: Registers a new user with a username and password.\n",
        "# Inputs:\n",
        "# - username (str): The desired username.\n",
        "# - password (str): The desired password.\n",
        "# Outputs:\n",
        "# - bool: True if registration is successful, False otherwise.\n",
        "# Behavior:\n",
        "# - Check if the username already exists.\n",
        "# - If the username exists, return False.\n",
        "# - If the username does not exist, store the username and a hashed password.\n",
        "# - Return True on successful registration.\n",
        "\n",
        "# Function: login_user\n",
        "# Description: Logs in an existing user.\n",
        "# Inputs:\n",
        "# - username (str): The username to log in.\n",
        "# - password (str): The password for the username.\n",
        "# Outputs:\n",
        "# - bool: True if login is successful, False otherwise.\n",
        "# Behavior:\n",
        "# - Check if the username exists.\n",
        "# - If the username does not exist, return False.\n",
        "# - If the username exists, compare the provided password with the stored hashed password.\n",
        "# - Return True if the passwords match, False otherwise.\n",
        "# Linked functions: register_user (registration should precede login)"
      ],
      "metadata": {
        "id": "factV6fNZNlm"
      },
      "execution_count": null,
      "outputs": []
    },
    {
      "cell_type": "markdown",
      "source": [
        "Explanation: These comments are structured instructions designed to guide an AI in generating Python code for two linked functions: register_user and login_user.\n",
        "\n",
        "Here's what each part of the comments means:\n",
        "\n",
        "# Function: [function_name]: Specifies the name of the function to be created.\n",
        "# Description: [description of function]: Provides a brief explanation of what the function does.\n",
        "# Inputs:: Lists the expected input parameters for the function, including their names and data types.\n",
        "# Outputs:: Describes the expected output of the function, including the data type.\n",
        "# Behavior:: Outlines the steps and logic the function should follow. This is where you specify the core functionality and any conditions or actions.\n",
        "# Linked functions: [linked_function_name]: Indicates if this function is related to or dependent on other functions, and in what way (e.g., register_user should precede login_user).\n",
        "Essentially, these comments act as a blueprint for the AI to understand the requirements and generate the corresponding code for user registration and login."
      ],
      "metadata": {
        "id": "lMGj4kNQZU3u"
      }
    },
    {
      "cell_type": "code",
      "source": [
        "Task5: Analyzing Prompt Specificity: Improving Temperature Conversion Function with\n",
        "Clear Instructions\n",
        "prompt: write a code to improve temperature conversion function with clear instructions."
      ],
      "metadata": {
        "id": "TaIHk5A4Zeim"
      },
      "execution_count": null,
      "outputs": []
    },
    {
      "cell_type": "code",
      "source": [
        "# Function: convert_temperature\n",
        "# Description: Converts a temperature from one unit (Celsius, Fahrenheit, or Kelvin) to another.\n",
        "# Inputs:\n",
        "# - temperature (float): The temperature value to convert.\n",
        "# - from_unit (str): The unit of the input temperature ('Celsius', 'Fahrenheit', or 'Kelvin').\n",
        "# - to_unit (str): The desired unit for the output temperature ('Celsius', 'Fahrenheit', or 'Kelvin').\n",
        "# Outputs:\n",
        "# - float: The converted temperature value.\n",
        "# - str: An error message if the input units are invalid.\n",
        "# Behavior:\n",
        "# - Check if the input units are valid ('Celsius', 'Fahrenheit', or 'Kelvin').\n",
        "# - If invalid units are provided, return an error message.\n",
        "# - If valid units are provided, perform the conversion based on the following formulas:\n",
        "#   - Celsius to Fahrenheit: (temperature * 9/5) + 32\n",
        "#   - Celsius to Kelvin: temperature + 273.15\n",
        "#   - Fahrenheit to Celsius: (temperature - 32) * 5/9\n",
        "#   - Fahrenheit to Kelvin: (temperature - 32) * 5/9 + 273.15\n",
        "#   - Kelvin to Celsius: temperature - 273.15\n",
        "#   - Kelvin to Fahrenheit: (temperature - 273.15) * 9/5 + 32\n",
        "# - Return the converted temperature.\n",
        "\n",
        "def convert_temperature(temperature, from_unit, to_unit):\n",
        "    \"\"\"\n",
        "    Converts a temperature from one unit to another.\n",
        "\n",
        "    Args:\n",
        "        temperature (float): The temperature value to convert.\n",
        "        from_unit (str): The unit of the input temperature ('Celsius', 'Fahrenheit', or 'Kelvin').\n",
        "        to_unit (str): The desired unit for the output temperature ('Celsius', 'Fahrenheit', or 'Kelvin').\n",
        "\n",
        "    Returns:\n",
        "        float or str: The converted temperature value or an error message.\n",
        "    \"\"\"\n",
        "    valid_units = ['Celsius', 'Fahrenheit', 'Kelvin']\n",
        "    if from_unit not in valid_units or to_unit not in valid_units:\n",
        "        return \"Invalid units. Please use 'Celsius', 'Fahrenheit', or 'Kelvin'.\"\n",
        "\n",
        "    if from_unit == to_unit:\n",
        "        return temperature\n",
        "\n",
        "    # Convert to Celsius first\n",
        "    if from_unit == 'Fahrenheit':\n",
        "        celsius = (temperature - 32) * 5/9\n",
        "    elif from_unit == 'Kelvin':\n",
        "        celsius = temperature - 273.15\n",
        "    else: # from_unit is Celsius\n",
        "        celsius = temperature\n",
        "\n",
        "    # Convert from Celsius to the target unit\n",
        "    if to_unit == 'Fahrenheit':\n",
        "        return (celsius * 9/5) + 32\n",
        "    elif to_unit == 'Kelvin':\n",
        "        return celsius + 273.15\n",
        "    else: # to_unit is Celsius\n",
        "        return celsius\n",
        "\n",
        "# Example usage:\n",
        "temp_celsius = 25\n",
        "temp_fahrenheit = convert_temperature(temp_celsius, 'Celsius', 'Fahrenheit')\n",
        "print(f\"{temp_celsius} Celsius is {temp_fahrenheit:.2f} Fahrenheit\")\n",
        "\n",
        "temp_fahrenheit = 77\n",
        "temp_celsius = convert_temperature(temp_fahrenheit, 'Fahrenheit', 'Celsius')\n",
        "print(f\"{temp_fahrenheit} Fahrenheit is {temp_celsius:.2f} Celsius\")\n",
        "\n",
        "temp_celsius = 25\n",
        "temp_kelvin = convert_temperature(temp_celsius, 'Celsius', 'Kelvin')\n",
        "print(f\"{temp_celsius} Celsius is {temp_kelvin:.2f} Kelvin\")\n",
        "\n",
        "temp_kelvin = 298.15\n",
        "temp_celsius = convert_temperature(temp_kelvin, 'Kelvin', 'Celsius')\n",
        "print(f\"{temp_kelvin} Kelvin is {temp_celsius:.2f} Celsius\")\n",
        "\n",
        "temp_fahrenheit = 77\n",
        "temp_kelvin = convert_temperature(temp_fahrenheit, 'Fahrenheit', 'Kelvin')\n",
        "print(f\"{temp_fahrenheit} Fahrenheit is {temp_kelvin:.2f} Kelvin\")\n",
        "\n",
        "temp_kelvin = 298.15\n",
        "temp_fahrenheit = convert_temperature(temp_kelvin, 'Kelvin', 'Fahrenheit')\n",
        "print(f\"{temp_kelvin} Kelvin is {temp_fahrenheit:.2f} Fahrenheit\")\n",
        "\n",
        "print(convert_temperature(100, 'Celsius', 'Rankine')) # Example of invalid unit"
      ],
      "metadata": {
        "id": "hG1_kKL6aSjO"
      },
      "execution_count": null,
      "outputs": []
    },
    {
      "cell_type": "markdown",
      "source": [
        "Explanation: This code defines a Python function called convert_temperature that takes a temperature value, its original unit, and the desired unit as input.\n",
        "\n",
        "Here's a breakdown:\n",
        "\n",
        "Function Definition: def convert_temperature(temperature, from_unit, to_unit): defines the function with three parameters: temperature (the value), from_unit (the unit the temperature is currently in), and to_unit (the unit you want to convert to).\n",
        "Docstring: The triple-quoted string is a docstring that explains what the function does, its arguments (Args), and what it returns (Returns).\n",
        "Valid Units Check: valid_units = ['Celsius', 'Fahrenheit', 'Kelvin'] creates a list of acceptable temperature units. The if from_unit not in valid_units or to_unit not in valid_units: statement checks if the provided from_unit or to_unit are not in this list. If either is invalid, it returns an error message.\n",
        "Same Unit Check: if from_unit == to_unit: checks if the input unit and output unit are the same. If they are, the function simply returns the original temperature value as no conversion is needed.\n",
        "Conversion to Celsius: The code then proceeds to convert the input temperature to Celsius first, regardless of the original unit. This is done to simplify the conversion logic, as it's easier to convert between Celsius and other units than directly between Fahrenheit and Kelvin, for example.\n",
        "Conversion from Celsius to Target Unit: Finally, the code converts the temperature (now in Celsius) to the desired to_unit using the appropriate conversion formula.\n",
        "Return Value: The function returns the converted temperature as a float or an error message as a string."
      ],
      "metadata": {
        "id": "GYhYNmg5awD7"
      }
    }
  ]
}